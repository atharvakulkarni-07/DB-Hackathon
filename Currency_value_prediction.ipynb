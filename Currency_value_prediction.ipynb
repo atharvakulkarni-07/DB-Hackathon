{
 "cells": [
  {
   "cell_type": "code",
   "execution_count": 40,
   "id": "e117799c-6040-4880-982a-92fab2e2a069",
   "metadata": {},
   "outputs": [],
   "source": [
    "train_ratio = 0.8 # for train test split\n",
    "ticker = 'EURINR=X' # for currency exchange rate"
   ]
  },
  {
   "cell_type": "code",
   "execution_count": 41,
   "id": "2fa99127-f351-4060-be2c-f7c38b86af27",
   "metadata": {},
   "outputs": [
    {
     "name": "stderr",
     "output_type": "stream",
     "text": [
      "[*********************100%%**********************]  1 of 1 completed"
     ]
    },
    {
     "name": "stdout",
     "output_type": "stream",
     "text": [
      "                 Open       High        Low      Close  Adj Close  Volume\n",
      "Date                                                                     \n",
      "2003-12-01  55.004002  55.014999  54.466999  54.700001  54.700001       0\n",
      "2003-12-02  54.662998  55.243999  54.359001  55.139000  55.139000       0\n",
      "2003-12-03  55.162998  55.305000  54.881001  55.181000  55.181000       0\n",
      "2003-12-04  55.181999  55.325001  54.772999  55.000999  55.000999       0\n",
      "2003-12-05  55.020000  55.370998  54.880001  55.370998  55.370998       0\n",
      "(4898, 6)\n"
     ]
    },
    {
     "name": "stderr",
     "output_type": "stream",
     "text": [
      "\n"
     ]
    }
   ],
   "source": [
    "import yfinance as yf\n",
    "import numpy as np\n",
    "import matplotlib.pyplot as plt\n",
    "import pandas as pd\n",
    "\n",
    "# Fetch historical exchange rate data for USD to INR for the past 5 years\n",
    "data = yf.download(ticker, start='2000-10-20', end='2022-10-20')\n",
    "\n",
    "# data=pd.read_csv('S&P_500_Index_Data.csv')\n",
    "# data.rename(columns={'close': 'Close'}, inplace=True)\n",
    "# data.drop(columns=['date'], inplace=True)\n",
    "\n",
    "# Display the first few rows of the dataset\n",
    "print(data.head())\n",
    "print(data.shape)"
   ]
  },
  {
   "cell_type": "code",
   "execution_count": 42,
   "id": "ebfaa616-12a0-43ae-b777-36eae1747dda",
   "metadata": {},
   "outputs": [
    {
     "name": "stdout",
     "output_type": "stream",
     "text": [
      "(4898, 1)\n",
      "(4898, 1)\n"
     ]
    }
   ],
   "source": [
    "data = data[['Close']]\n",
    "original_data = data\n",
    "print(data.shape)\n",
    "print(original_data.shape)"
   ]
  },
  {
   "cell_type": "code",
   "execution_count": 43,
   "id": "6336f215-50e1-451b-be70-8c50d688d938",
   "metadata": {},
   "outputs": [
    {
     "name": "stdout",
     "output_type": "stream",
     "text": [
      "                Close      lag_1      lag_2      lag_3\n",
      "Date                                                  \n",
      "2003-12-01  54.700001        NaN        NaN        NaN\n",
      "2003-12-02  55.139000  54.700001        NaN        NaN\n",
      "2003-12-03  55.181000  55.139000  54.700001        NaN\n",
      "2003-12-04  55.000999  55.181000  55.139000  54.700001\n",
      "2003-12-05  55.370998  55.000999  55.181000  55.139000\n"
     ]
    },
    {
     "name": "stderr",
     "output_type": "stream",
     "text": [
      "C:\\Users\\ASUS\\AppData\\Local\\Temp\\ipykernel_5396\\3763984461.py:6: SettingWithCopyWarning: \n",
      "A value is trying to be set on a copy of a slice from a DataFrame.\n",
      "Try using .loc[row_indexer,col_indexer] = value instead\n",
      "\n",
      "See the caveats in the documentation: https://pandas.pydata.org/pandas-docs/stable/user_guide/indexing.html#returning-a-view-versus-a-copy\n",
      "  data[f'lag_{i}'] = values\n",
      "C:\\Users\\ASUS\\AppData\\Local\\Temp\\ipykernel_5396\\3763984461.py:6: SettingWithCopyWarning: \n",
      "A value is trying to be set on a copy of a slice from a DataFrame.\n",
      "Try using .loc[row_indexer,col_indexer] = value instead\n",
      "\n",
      "See the caveats in the documentation: https://pandas.pydata.org/pandas-docs/stable/user_guide/indexing.html#returning-a-view-versus-a-copy\n",
      "  data[f'lag_{i}'] = values\n",
      "C:\\Users\\ASUS\\AppData\\Local\\Temp\\ipykernel_5396\\3763984461.py:6: SettingWithCopyWarning: \n",
      "A value is trying to be set on a copy of a slice from a DataFrame.\n",
      "Try using .loc[row_indexer,col_indexer] = value instead\n",
      "\n",
      "See the caveats in the documentation: https://pandas.pydata.org/pandas-docs/stable/user_guide/indexing.html#returning-a-view-versus-a-copy\n",
      "  data[f'lag_{i}'] = values\n"
     ]
    }
   ],
   "source": [
    "# Creating lag features for time-series data\n",
    "\n",
    "def create_lag_features(data, lag_steps=1):\n",
    "    for i in range(1, lag_steps + 1):\n",
    "        values = data['Close'].shift(i)\n",
    "        data[f'lag_{i}'] = values\n",
    "    return data\n",
    "\n",
    "# Applying lag feature creation to the dataset\n",
    "\n",
    "lagged_data = create_lag_features(original_data, lag_steps=3)\n",
    "print(lagged_data.head())"
   ]
  },
  {
   "cell_type": "code",
   "execution_count": 44,
   "id": "2ec50945-6a4d-4c41-a8a1-e440414db70f",
   "metadata": {},
   "outputs": [
    {
     "name": "stdout",
     "output_type": "stream",
     "text": [
      "                Close      lag_1      lag_2      lag_3  rolling_mean\n",
      "Date                                                                \n",
      "2003-12-01  54.700001        NaN        NaN        NaN           NaN\n",
      "2003-12-02  55.139000  54.700001        NaN        NaN           NaN\n",
      "2003-12-03  55.181000  55.139000  54.700001        NaN           NaN\n",
      "2003-12-04  55.000999  55.181000  55.139000  54.700001           NaN\n",
      "2003-12-05  55.370998  55.000999  55.181000  55.139000       55.0784\n"
     ]
    },
    {
     "name": "stderr",
     "output_type": "stream",
     "text": [
      "C:\\Users\\ASUS\\AppData\\Local\\Temp\\ipykernel_5396\\1779863088.py:5: SettingWithCopyWarning: \n",
      "A value is trying to be set on a copy of a slice from a DataFrame.\n",
      "Try using .loc[row_indexer,col_indexer] = value instead\n",
      "\n",
      "See the caveats in the documentation: https://pandas.pydata.org/pandas-docs/stable/user_guide/indexing.html#returning-a-view-versus-a-copy\n",
      "  data['rolling_mean'] = values\n"
     ]
    }
   ],
   "source": [
    "# Creating rolling mean for time-series data\n",
    "\n",
    "def create_rolling_mean(data, window_size=3):\n",
    "    values = data['Close'].rolling(window=window_size).mean()\n",
    "    data['rolling_mean'] = values\n",
    "    return data\n",
    "\n",
    "# Applying rolling mean to the dataset\n",
    "\n",
    "rolled_data = create_rolling_mean(original_data, window_size=5)\n",
    "print(rolled_data.head())"
   ]
  },
  {
   "cell_type": "code",
   "execution_count": 45,
   "id": "7134d7b7-6a15-4f46-8397-6663b64b961b",
   "metadata": {},
   "outputs": [
    {
     "name": "stdout",
     "output_type": "stream",
     "text": [
      "                Close      lag_1      lag_2      lag_3  rolling_mean  \\\n",
      "Date                                                                   \n",
      "2003-12-01  54.700001        NaN        NaN        NaN           NaN   \n",
      "2003-12-02  55.139000  54.700001        NaN        NaN           NaN   \n",
      "2003-12-03  55.181000  55.139000  54.700001        NaN           NaN   \n",
      "2003-12-04  55.000999  55.181000  55.139000  54.700001           NaN   \n",
      "2003-12-05  55.370998  55.000999  55.181000  55.139000       55.0784   \n",
      "\n",
      "            fourier_transform  \n",
      "Date                           \n",
      "2003-12-01      344535.086826  \n",
      "2003-12-02       26733.303858  \n",
      "2003-12-03       13956.674716  \n",
      "2003-12-04       14504.084291  \n",
      "2003-12-05        5268.963353  \n"
     ]
    }
   ],
   "source": [
    "from scipy.fft import fft\n",
    "\n",
    "def apply_fourier_transform(data):\n",
    "\n",
    "    values = data['Close'].values\n",
    "\n",
    "    fourier_transform = fft(values)\n",
    "\n",
    "    data['fourier_transform'] = np.abs(fourier_transform)\n",
    "\n",
    "    return data\n",
    "\n",
    "# Applying Fourier transformation to the dataset\n",
    "\n",
    "fourier_data = apply_fourier_transform(original_data)\n",
    "print(fourier_data.head())"
   ]
  },
  {
   "cell_type": "code",
   "execution_count": null,
   "id": "661ceb9f-59ff-4322-8e5d-6836360a44e2",
   "metadata": {},
   "outputs": [],
   "source": []
  },
  {
   "cell_type": "code",
   "execution_count": null,
   "id": "f26db8f4-4a4d-44ad-9ced-38b780435c50",
   "metadata": {},
   "outputs": [],
   "source": []
  },
  {
   "cell_type": "code",
   "execution_count": 46,
   "id": "48b7366f-76f6-4dbb-8c19-000f5f615f64",
   "metadata": {},
   "outputs": [
    {
     "name": "stdout",
     "output_type": "stream",
     "text": [
      "                Close      lag_1      lag_2      lag_3  rolling_mean  \\\n",
      "Date                                                                   \n",
      "2003-12-01  54.700001        NaN        NaN        NaN           NaN   \n",
      "2003-12-02  55.139000  54.700001        NaN        NaN           NaN   \n",
      "2003-12-03  55.181000  55.139000  54.700001        NaN           NaN   \n",
      "2003-12-04  55.000999  55.181000  55.139000  54.700001           NaN   \n",
      "2003-12-05  55.370998  55.000999  55.181000  55.139000       55.0784   \n",
      "\n",
      "            fourier_transform  \n",
      "Date                           \n",
      "2003-12-01      344535.086826  \n",
      "2003-12-02       26733.303858  \n",
      "2003-12-03       13956.674716  \n",
      "2003-12-04       14504.084291  \n",
      "2003-12-05        5268.963353  \n"
     ]
    }
   ],
   "source": [
    "train_size = int(len(data) * train_ratio)\n",
    "\n",
    "X_train, X_test = data[:train_size], data[train_size:]\n",
    "y_train, y_test = data['Close'][:train_size], data['Close'][train_size:]\n",
    "\n",
    "# X_train, X_test = data, data\n",
    "# y_train, y_test = data['Close'], data['Close']\n",
    "\n",
    "print(X_train.head())"
   ]
  },
  {
   "cell_type": "code",
   "execution_count": 47,
   "id": "1711e876-e9f4-4699-8bc7-79a9098fa5a2",
   "metadata": {},
   "outputs": [],
   "source": [
    "from sklearn.model_selection import GridSearchCV\n",
    "from xgboost import XGBRegressor\n",
    "param_grid = {\n",
    "\n",
    "    'learning_rate': [0.01, 0.1, 0.2],\n",
    "\n",
    "    'max_depth': [3, 5, 7],\n",
    "\n",
    "    'subsample': [0.8, 0.9, 1.0]\n",
    "\n",
    "}\n",
    "\n",
    "grid_search = GridSearchCV(XGBRegressor(), param_grid, cv=3)\n",
    "\n",
    "grid_search.fit(X_train, y_train)\n",
    "\n",
    "best_params = grid_search.best_params_"
   ]
  },
  {
   "cell_type": "code",
   "execution_count": 48,
   "id": "b583c22b-428c-4043-96af-f5f2f8934ef6",
   "metadata": {},
   "outputs": [
    {
     "data": {
      "text/html": [
       "<style>#sk-container-id-4 {color: black;}#sk-container-id-4 pre{padding: 0;}#sk-container-id-4 div.sk-toggleable {background-color: white;}#sk-container-id-4 label.sk-toggleable__label {cursor: pointer;display: block;width: 100%;margin-bottom: 0;padding: 0.3em;box-sizing: border-box;text-align: center;}#sk-container-id-4 label.sk-toggleable__label-arrow:before {content: \"▸\";float: left;margin-right: 0.25em;color: #696969;}#sk-container-id-4 label.sk-toggleable__label-arrow:hover:before {color: black;}#sk-container-id-4 div.sk-estimator:hover label.sk-toggleable__label-arrow:before {color: black;}#sk-container-id-4 div.sk-toggleable__content {max-height: 0;max-width: 0;overflow: hidden;text-align: left;background-color: #f0f8ff;}#sk-container-id-4 div.sk-toggleable__content pre {margin: 0.2em;color: black;border-radius: 0.25em;background-color: #f0f8ff;}#sk-container-id-4 input.sk-toggleable__control:checked~div.sk-toggleable__content {max-height: 200px;max-width: 100%;overflow: auto;}#sk-container-id-4 input.sk-toggleable__control:checked~label.sk-toggleable__label-arrow:before {content: \"▾\";}#sk-container-id-4 div.sk-estimator input.sk-toggleable__control:checked~label.sk-toggleable__label {background-color: #d4ebff;}#sk-container-id-4 div.sk-label input.sk-toggleable__control:checked~label.sk-toggleable__label {background-color: #d4ebff;}#sk-container-id-4 input.sk-hidden--visually {border: 0;clip: rect(1px 1px 1px 1px);clip: rect(1px, 1px, 1px, 1px);height: 1px;margin: -1px;overflow: hidden;padding: 0;position: absolute;width: 1px;}#sk-container-id-4 div.sk-estimator {font-family: monospace;background-color: #f0f8ff;border: 1px dotted black;border-radius: 0.25em;box-sizing: border-box;margin-bottom: 0.5em;}#sk-container-id-4 div.sk-estimator:hover {background-color: #d4ebff;}#sk-container-id-4 div.sk-parallel-item::after {content: \"\";width: 100%;border-bottom: 1px solid gray;flex-grow: 1;}#sk-container-id-4 div.sk-label:hover label.sk-toggleable__label {background-color: #d4ebff;}#sk-container-id-4 div.sk-serial::before {content: \"\";position: absolute;border-left: 1px solid gray;box-sizing: border-box;top: 0;bottom: 0;left: 50%;z-index: 0;}#sk-container-id-4 div.sk-serial {display: flex;flex-direction: column;align-items: center;background-color: white;padding-right: 0.2em;padding-left: 0.2em;position: relative;}#sk-container-id-4 div.sk-item {position: relative;z-index: 1;}#sk-container-id-4 div.sk-parallel {display: flex;align-items: stretch;justify-content: center;background-color: white;position: relative;}#sk-container-id-4 div.sk-item::before, #sk-container-id-4 div.sk-parallel-item::before {content: \"\";position: absolute;border-left: 1px solid gray;box-sizing: border-box;top: 0;bottom: 0;left: 50%;z-index: -1;}#sk-container-id-4 div.sk-parallel-item {display: flex;flex-direction: column;z-index: 1;position: relative;background-color: white;}#sk-container-id-4 div.sk-parallel-item:first-child::after {align-self: flex-end;width: 50%;}#sk-container-id-4 div.sk-parallel-item:last-child::after {align-self: flex-start;width: 50%;}#sk-container-id-4 div.sk-parallel-item:only-child::after {width: 0;}#sk-container-id-4 div.sk-dashed-wrapped {border: 1px dashed gray;margin: 0 0.4em 0.5em 0.4em;box-sizing: border-box;padding-bottom: 0.4em;background-color: white;}#sk-container-id-4 div.sk-label label {font-family: monospace;font-weight: bold;display: inline-block;line-height: 1.2em;}#sk-container-id-4 div.sk-label-container {text-align: center;}#sk-container-id-4 div.sk-container {/* jupyter's `normalize.less` sets `[hidden] { display: none; }` but bootstrap.min.css set `[hidden] { display: none !important; }` so we also need the `!important` here to be able to override the default hidden behavior on the sphinx rendered scikit-learn.org. See: https://github.com/scikit-learn/scikit-learn/issues/21755 */display: inline-block !important;position: relative;}#sk-container-id-4 div.sk-text-repr-fallback {display: none;}</style><div id=\"sk-container-id-4\" class=\"sk-top-container\"><div class=\"sk-text-repr-fallback\"><pre>XGBRegressor(base_score=None, booster=None, callbacks=None,\n",
       "             colsample_bylevel=None, colsample_bynode=None,\n",
       "             colsample_bytree=None, device=None, early_stopping_rounds=None,\n",
       "             enable_categorical=False, eval_metric=None, feature_types=None,\n",
       "             gamma=None, grow_policy=None, importance_type=None,\n",
       "             interaction_constraints=None, learning_rate=0.2, max_bin=None,\n",
       "             max_cat_threshold=None, max_cat_to_onehot=None,\n",
       "             max_delta_step=None, max_depth=5, max_leaves=None,\n",
       "             min_child_weight=None, missing=nan, monotone_constraints=None,\n",
       "             multi_strategy=None, n_estimators=None, n_jobs=None,\n",
       "             num_parallel_tree=None, random_state=None, ...)</pre><b>In a Jupyter environment, please rerun this cell to show the HTML representation or trust the notebook. <br />On GitHub, the HTML representation is unable to render, please try loading this page with nbviewer.org.</b></div><div class=\"sk-container\" hidden><div class=\"sk-item\"><div class=\"sk-estimator sk-toggleable\"><input class=\"sk-toggleable__control sk-hidden--visually\" id=\"sk-estimator-id-4\" type=\"checkbox\" checked><label for=\"sk-estimator-id-4\" class=\"sk-toggleable__label sk-toggleable__label-arrow\">XGBRegressor</label><div class=\"sk-toggleable__content\"><pre>XGBRegressor(base_score=None, booster=None, callbacks=None,\n",
       "             colsample_bylevel=None, colsample_bynode=None,\n",
       "             colsample_bytree=None, device=None, early_stopping_rounds=None,\n",
       "             enable_categorical=False, eval_metric=None, feature_types=None,\n",
       "             gamma=None, grow_policy=None, importance_type=None,\n",
       "             interaction_constraints=None, learning_rate=0.2, max_bin=None,\n",
       "             max_cat_threshold=None, max_cat_to_onehot=None,\n",
       "             max_delta_step=None, max_depth=5, max_leaves=None,\n",
       "             min_child_weight=None, missing=nan, monotone_constraints=None,\n",
       "             multi_strategy=None, n_estimators=None, n_jobs=None,\n",
       "             num_parallel_tree=None, random_state=None, ...)</pre></div></div></div></div></div>"
      ],
      "text/plain": [
       "XGBRegressor(base_score=None, booster=None, callbacks=None,\n",
       "             colsample_bylevel=None, colsample_bynode=None,\n",
       "             colsample_bytree=None, device=None, early_stopping_rounds=None,\n",
       "             enable_categorical=False, eval_metric=None, feature_types=None,\n",
       "             gamma=None, grow_policy=None, importance_type=None,\n",
       "             interaction_constraints=None, learning_rate=0.2, max_bin=None,\n",
       "             max_cat_threshold=None, max_cat_to_onehot=None,\n",
       "             max_delta_step=None, max_depth=5, max_leaves=None,\n",
       "             min_child_weight=None, missing=nan, monotone_constraints=None,\n",
       "             multi_strategy=None, n_estimators=None, n_jobs=None,\n",
       "             num_parallel_tree=None, random_state=None, ...)"
      ]
     },
     "execution_count": 48,
     "metadata": {},
     "output_type": "execute_result"
    }
   ],
   "source": [
    "xgb_model = XGBRegressor(**best_params)\n",
    "\n",
    "xgb_model.fit(X_train, y_train)"
   ]
  },
  {
   "cell_type": "code",
   "execution_count": 49,
   "id": "97d4aa50-c58a-4599-bdbe-87f484f04886",
   "metadata": {},
   "outputs": [],
   "source": [
    "from sklearn.metrics import mean_absolute_error, mean_squared_error\n",
    "\n",
    "predictions = xgb_model.predict(X_test)\n",
    "\n",
    "mae = mean_absolute_error(y_test, predictions)\n",
    "\n",
    "rmse = np.sqrt(mean_squared_error(y_test, predictions))"
   ]
  },
  {
   "cell_type": "code",
   "execution_count": 50,
   "id": "7c29abd0-c3c7-46f5-ba25-fba2a7cbca0e",
   "metadata": {},
   "outputs": [
    {
     "name": "stdout",
     "output_type": "stream",
     "text": [
      "1.0167124445532387\n"
     ]
    }
   ],
   "source": [
    "print(rmse)"
   ]
  },
  {
   "cell_type": "code",
   "execution_count": null,
   "id": "9a453e13-9052-4a87-906e-cc25530ee68c",
   "metadata": {},
   "outputs": [],
   "source": []
  },
  {
   "cell_type": "code",
   "execution_count": 51,
   "id": "5357a69d-52d1-4814-8c06-e3aed863f004",
   "metadata": {},
   "outputs": [
    {
     "data": {
      "text/plain": [
       "[<matplotlib.lines.Line2D at 0x20fcf41bcd0>]"
      ]
     },
     "execution_count": 51,
     "metadata": {},
     "output_type": "execute_result"
    },
    {
     "data": {
      "image/png": "[encoded data removed]",
      "text/plain": [
       "<Figure size 640x480 with 1 Axes>"
      ]
     },
     "metadata": {},
     "output_type": "display_data"
    }
   ],
   "source": [
    "plt.plot(X_train.index, X_train['Close'], color='blue')\n",
    "plt.plot(X_test.index, X_test['Close'], color='orange')\n",
    "plt.plot(X_test.index, predictions, color='red')"
   ]
  },
  {
   "cell_type": "code",
   "execution_count": null,
   "id": "2cd9826e-dd52-447f-ba96-176744b1506e",
   "metadata": {},
   "outputs": [],
   "source": []
  }
 ],
 "metadata": {
  "kernelspec": {
   "display_name": "Python 3 (ipykernel)",
   "language": "python",
   "name": "python3"
  },
  "language_info": {
   "codemirror_mode": {
    "name": "ipython",
    "version": 3
   },
   "file_extension": ".py",
   "mimetype": "text/x-python",
   "name": "python",
   "nbconvert_exporter": "python",
   "pygments_lexer": "ipython3",
   "version": "3.11.4"
  }
 },
 "nbformat": 4,
 "nbformat_minor": 5
}
